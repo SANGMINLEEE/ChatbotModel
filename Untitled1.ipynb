{
 "cells": [
  {
   "cell_type": "code",
   "execution_count": 1,
   "metadata": {},
   "outputs": [],
   "source": [
    "import tensorflow as tf\n",
    "import random\n",
    "import math\n",
    "import os\n",
    "import config\n",
    "from model import sequence2sequence\n",
    "from Conversation import Conversation\n",
    "\n",
    "checkpoint=tf.train.get_checkpoint_state(config.train_dir)\n",
    "checkpoint_path=os.path.join(config.train_dir,config.ckpt_name)\n",
    "\n",
    "def train(conv,conversation, batch_size,epoch):\n",
    "    model=sequence2sequence(conv.voc_size)\n",
    "    \n",
    "    with tf.Session() as sess:\n",
    "        \n",
    "        if checkpoint and tf.train.checkpoint_exitsts(checkpoint.model_checkpoin_path):\n",
    "            model.saver.restore(sess,checkpoint.model_checkpoint_path)\n",
    "        else:\n",
    "            print(\"Building a model\")\n",
    "            sess.run(tf.global_variables_initializer())\n",
    "    \n",
    "    writer= tf.summary.FileWrite(config.log_dir,sess.graph)\n",
    "    total_batch=int(math.ceil(len(conv.conversation)/float(batch_size)))\n",
    "    \n",
    "    for step in range(total_batch * epoch):\n",
    "        enc_input, dec_input,targets=conv.next_batch(batch_size)\n",
    "        \n",
    "        _,loss=model.train(sess,enc_input,dec_input,targets)\n",
    "        \n",
    "        if(step+1)% 22==0:\n",
    "            model.write_logs(sess, writer, enc_input, dec_input, targets)\n",
    "            model.saver.save(sess,checkpoint_path,global_step=model.global_step)\n",
    "            print('Step:', '%06d' % model.global_step.eval(),'cost =', '{:.6f}'.format(loss))\n",
    "    model.saver.save(sess,checkpoint_path,global_step=model.global_step)\n",
    "    print(\"Finished\")\n",
    "    \n",
    "def main():\n",
    "    \n",
    "    conv=Conversation()\n",
    "    conv.Load_voc(config.VOC_PATH)\n",
    "    conv.Load_conversation(config.DATA_PATH)\n",
    "    \n",
    "    train(conv, config.BATCH_SIZE,config.EPOCH)\n",
    "    \n",
    "if __name__==\"__main__\":\n",
    "    main()\n",
    "    "
   ]
  },
  {
   "cell_type": "code",
   "execution_count": null,
   "metadata": {},
   "outputs": [],
   "source": []
  }
 ],
 "metadata": {
  "kernelspec": {
   "display_name": "Python 3",
   "language": "python",
   "name": "python3"
  },
  "language_info": {
   "codemirror_mode": {
    "name": "ipython",
    "version": 3
   },
   "file_extension": ".py",
   "mimetype": "text/x-python",
   "name": "python",
   "nbconvert_exporter": "python",
   "pygments_lexer": "ipython3",
   "version": "3.6.2"
  }
 },
 "nbformat": 4,
 "nbformat_minor": 2
}
