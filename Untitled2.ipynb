{
 "cells": [
  {
   "cell_type": "code",
   "execution_count": 1,
   "metadata": {},
   "outputs": [],
   "source": [
    "    def next_batch(self, batch_size):\n",
    "        enc_input = []\n",
    "        dec_input = []\n",
    "        target = []\n",
    "\n",
    "        start = self._index_in_epoch\n",
    "\n",
    "        if self._index_in_epoch + batch_size < len(self.examples) - 1:\n",
    "            self._index_in_epoch = self._index_in_epoch + batch_size\n",
    "        else:\n",
    "            self._index_in_epoch = 0\n",
    "\n",
    "        batch_set = self.examples[start:start+batch_size]\n",
    "\n",
    "        # 작은 데이터셋을 실험하기 위한 꼼수\n",
    "        # 현재의 답변을 다음 질문의 질문으로 하고, 다음 질문을 답변으로 하여 데이터를 늘린다.\n",
    "# if FLAGS.data_loop is True:\n",
    "#            batch_set = batch_set + batch_set[1:] + batch_set[0:1]\n",
    "\n",
    "        # TODO: 구글처럼 버킷을 이용한 방식으로 변경\n",
    "        # 간단하게 만들기 위해 구글처럼 버킷을 쓰지 않고 같은 배치는 같은 사이즈를 사용하도록 만듬\n",
    "        max_len_input, max_len_output = self.max_len(batch_set)\n",
    "\n",
    "        for i in range(0, len(batch_set) - 1, 2):\n",
    "            enc, dec, tar = self.transform(batch_set[i], batch_set[i+1],\n",
    "                                           max_len_input, max_len_output)\n",
    "\n",
    "            enc_input.append(enc)\n",
    "            dec_input.append(dec)\n",
    "            target.append(tar)\n",
    "\n",
    "        return enc_input, dec_input, target\n"
   ]
  },
  {
   "cell_type": "code",
   "execution_count": 5,
   "metadata": {},
   "outputs": [
    {
     "name": "stdout",
     "output_type": "stream",
     "text": [
      "128\n",
      "0.01\n"
     ]
    }
   ],
   "source": [
    "import tensorflow as tf\n",
    "import config\n",
    "\n",
    "class seq2seq:\n",
    "    \n",
    "    def __init__(self):\n",
    "        self.n_hidden=config.n_hidden\n",
    "        self.learning_rate=config.learning_rate\n",
    "        \n",
    "        \n",
    "    def make_model(self):\n",
    "        print(self.n_hidden)\n",
    "        print(self.learning_rate)\n",
    "        \n",
    "def main():\n",
    "    se=seq2seq()\n",
    "    se.make_model()\n",
    "    \n",
    "if __name__==\"__main__\":\n",
    "    main()"
   ]
  },
  {
   "cell_type": "code",
   "execution_count": null,
   "metadata": {},
   "outputs": [],
   "source": []
  }
 ],
 "metadata": {
  "kernelspec": {
   "display_name": "Python 3",
   "language": "python",
   "name": "python3"
  },
  "language_info": {
   "codemirror_mode": {
    "name": "ipython",
    "version": 3
   },
   "file_extension": ".py",
   "mimetype": "text/x-python",
   "name": "python",
   "nbconvert_exporter": "python",
   "pygments_lexer": "ipython3",
   "version": "3.6.2"
  }
 },
 "nbformat": 4,
 "nbformat_minor": 2
}
